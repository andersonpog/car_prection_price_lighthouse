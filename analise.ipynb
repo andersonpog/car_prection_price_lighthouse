{
 "cells": [
  {
   "cell_type": "code",
   "execution_count": null,
   "id": "3139a8c4",
   "metadata": {},
   "outputs": [],
   "source": [
    "import pandas as pd\n",
    "import numpy as np\n",
    "import seaborn as sns\n",
    "import matplotlib.pyplot as plt\n",
    "import matplotlib.ticker as ticker\n",
    "from sklearn.model_selection import train_test_split\n",
    "from sklearn.metrics import r2_score\n",
    "from sklearn.preprocessing import StandardScaler\n",
    "from sklearn.linear_model import LinearRegression\n",
    "from sklearn.tree import DecisionTreeRegressor\n",
    "from sklearn.ensemble import RandomForestRegressor, GradientBoostingRegressor, AdaBoostRegressor\n",
    "from xgboost import XGBRegressor\n",
    "from catboost import CatBoostRegressor\n",
    "from lightgbm import LGBMRegressor"
   ]
  },
  {
   "cell_type": "code",
   "execution_count": null,
   "id": "7571a065",
   "metadata": {},
   "outputs": [],
   "source": [
    "#Load the data\n",
    "df = pd.read_csv('cars_train.csv', sep='\\t', header=0, encoding=\"utf-16\")"
   ]
  },
  {
   "cell_type": "code",
   "execution_count": null,
   "id": "e38be61c",
   "metadata": {},
   "outputs": [],
   "source": [
    "df.head()"
   ]
  },
  {
   "cell_type": "code",
   "execution_count": null,
   "id": "7143580c",
   "metadata": {},
   "outputs": [],
   "source": [
    "df.isnull().sum()"
   ]
  },
  {
   "cell_type": "code",
   "execution_count": null,
   "id": "37db9e77",
   "metadata": {},
   "outputs": [],
   "source": [
    "df.duplicated().sum()"
   ]
  },
  {
   "cell_type": "code",
   "execution_count": null,
   "id": "0fd05303",
   "metadata": {},
   "outputs": [],
   "source": [
    "df.info()"
   ]
  },
  {
   "cell_type": "code",
   "execution_count": null,
   "id": "cfea7e8f",
   "metadata": {},
   "outputs": [],
   "source": [
    "df.shape"
   ]
  },
  {
   "cell_type": "code",
   "execution_count": null,
   "id": "7bf0e0a4",
   "metadata": {},
   "outputs": [],
   "source": [
    "df.describe()"
   ]
  },
  {
   "cell_type": "code",
   "execution_count": null,
   "id": "01d711eb",
   "metadata": {},
   "outputs": [],
   "source": [
    "df"
   ]
  },
  {
   "cell_type": "code",
   "execution_count": null,
   "id": "50402b7c",
   "metadata": {},
   "outputs": [],
   "source": [
    "booleans = ['blindado','entrega_delivery','troca','elegivel_revisao','dono_aceita_troca','veiculo_único_dono','revisoes_concessionaria','ipva_pago','veiculo_licenciado','garantia_de_fábrica','revisoes_dentro_agenda']\n",
    "numericas = ['num_fotos','ano_de_fabricacao','ano_modelo','hodometro','num_portas','veiculo_alienado','preco']\n",
    "strings = ['marca','modelo','versao','cambio','tipo','cor','tipo_vendedor','cidade_vendedor','estado_vendedor','anunciante']"
   ]
  },
  {
   "cell_type": "code",
   "execution_count": null,
   "id": "e2390e35",
   "metadata": {},
   "outputs": [],
   "source": [
    "for col in booleans:\n",
    "\n",
    "    coluna = df[col].value_counts(dropna=False)\n",
    "    ax = coluna.plot(kind=\"bar\")\n",
    "    plt.title('Value counts of '+col+' column')\n",
    "    plt.xlabel(col)\n",
    "    plt.xticks(rotation=0)\n",
    "    plt.ylabel('Count')\n",
    "    for i, v in enumerate(coluna):\n",
    "        ax.text(i, v, str(v), ha='center', va='bottom', fontsize=12)\n",
    "    plt.show()"
   ]
  },
  {
   "cell_type": "code",
   "execution_count": null,
   "id": "9ac6d9d3",
   "metadata": {},
   "outputs": [],
   "source": [
    "#Obtendo informação do tipo de combustivel\n",
    "versao = df['versao']\n",
    "\n",
    "df['combustivel'] = None\n",
    "\n",
    "flex=0\n",
    "gasolina=0\n",
    "diesel = 0\n",
    "hibrido = 0\n",
    "eletrico = 0\n",
    "outros = 0\n",
    "\n",
    "for i,ver in enumerate(versao):\n",
    "    if \"FLEX\" in ver:\n",
    "        flex+=1\n",
    "        df.at[i, 'combustivel'] = 'FLEX'\n",
    "        continue\n",
    "    if \"GASOLINA\" in ver:\n",
    "        gasolina+=1\n",
    "        df.at[i, 'combustivel'] = 'GASOLINA'\n",
    "        continue\n",
    "    if \"DIESEL\" in ver:\n",
    "        diesel+=1\n",
    "        df.at[i, 'combustivel'] = 'DIESEL'\n",
    "        continue\n",
    "    if \"HÍBRIDO\" in ver or \"HYBRID\" in ver:\n",
    "        hibrido+=1\n",
    "        df.at[i, 'combustivel'] = 'HIBRIDO'\n",
    "        continue\n",
    "    if \"ELÉTRICO\" in ver:\n",
    "        eletrico+=1\n",
    "        df.at[i, 'combustivel'] = 'ELETRICO'\n",
    "        continue\n",
    "    print(ver)\n",
    "    df.at[i, 'combustivel'] = 'OUTROS'\n",
    "    outros+=1\n",
    "\n",
    "print(flex)\n",
    "print(gasolina)\n",
    "print(diesel)\n",
    "print(hibrido)\n",
    "print(eletrico)\n",
    "print(outros)\n"
   ]
  },
  {
   "cell_type": "code",
   "execution_count": null,
   "id": "50867ddf",
   "metadata": {},
   "outputs": [],
   "source": [
    "# sns.pairplot(df)"
   ]
  },
  {
   "cell_type": "code",
   "execution_count": null,
   "id": "38f7cfd8",
   "metadata": {},
   "outputs": [],
   "source": [
    "tipo = df['tipo_vendedor']\n",
    "anunciante = df['anunciante']\n",
    "\n",
    "ok = 0\n",
    "\n",
    "\n",
    "for t, a in zip(tipo, anunciante):\n",
    "    if t=='PF' and a=='Pessoa Física':\n",
    "#         ok+=1\n",
    "        continue\n",
    "    if (t=='PJ' and a=='Loja') or(t=='PJ' and a=='Concessionária'):\n",
    "#         ok+=1\n",
    "        continue\n",
    "    print(\"Tipo:\", t, \"- Anunciante:\", a)\n",
    "    ok+=1\n",
    "\n",
    "\n",
    "print(100*ok/len(tipo))\n",
    "    "
   ]
  },
  {
   "cell_type": "code",
   "execution_count": null,
   "id": "16220a3d",
   "metadata": {},
   "outputs": [],
   "source": [
    "primeira_linha = df.iloc[0]\n",
    "\n",
    "# Convertendo colunas float para int\n",
    "\n",
    "def float_to_int(value):\n",
    "    return int(value) if not pd.isna(value) else int(0)\n",
    "\n",
    "floats_ints = ['num_fotos','ano_modelo','hodometro']\n",
    "\n",
    "for col in floats_ints:\n",
    "    df[col] = df[col].apply(float_to_int)\n",
    "\n",
    "# Percorrendo a primeira linha e imprimindo valor e tipo de cada variável\n",
    "for coluna, valor in primeira_linha.iteritems():\n",
    "    print(f'Coluna: {coluna}, Valor: {valor}, Tipo: {type(valor)}')"
   ]
  },
  {
   "cell_type": "code",
   "execution_count": null,
   "id": "ad755b9d",
   "metadata": {},
   "outputs": [],
   "source": [
    "# Convertendo as colunas boolean\n",
    "# df['blindado']\n",
    "def bool_blindado(value):\n",
    "    if value=='S':\n",
    "        return True\n",
    "    if value=='N':\n",
    "        return False\n",
    "    \n",
    "df['blindado'] = df['blindado'].apply(bool_blindado)\n",
    "\n",
    "def bool_dono_aceita_troca(value):\n",
    "    if isinstance(value, str) and value == 'Aceita troca':\n",
    "        return True\n",
    "    return False\n",
    "\n",
    "df['dono_aceita_troca'] = df['dono_aceita_troca'].apply(bool_dono_aceita_troca)\n",
    "\n",
    "def bool_veiculo_unico_dono(value):\n",
    "    if isinstance(value, str) and value == 'Único dono':\n",
    "        return True\n",
    "    return False\n",
    "    \n",
    "df['veiculo_único_dono'] = df['veiculo_único_dono'].apply(bool_veiculo_unico_dono)\n",
    "\n",
    "def bool_revisoes_concessionaria(value):\n",
    "    if isinstance(value, str) and value == 'Todas as revisões feitas pela concessionária':\n",
    "        return True\n",
    "    return False\n",
    "\n",
    "df['revisoes_concessionaria'] = df['revisoes_concessionaria'].apply(bool_revisoes_concessionaria)\n",
    "\n",
    "def bool_ipva_pago(value):\n",
    "    if isinstance(value, str) and value == 'IPVA pago':\n",
    "        return True\n",
    "    return False\n",
    "\n",
    "df['ipva_pago'] = df['ipva_pago'].apply(bool_ipva_pago)\n",
    "\n",
    "def bool_veiculo_licenciado(value):\n",
    "    if isinstance(value, str) and value == 'Licenciado':\n",
    "        return True\n",
    "    return False\n",
    "\n",
    "df['veiculo_licenciado'] = df['veiculo_licenciado'].apply(bool_veiculo_licenciado)\n",
    "\n",
    "def bool_garantia_de_fabrica(value):\n",
    "    if isinstance(value, str) and value == 'Garantia de fábrica':\n",
    "        return True\n",
    "    return False\n",
    "\n",
    "df['garantia_de_fábrica'] = df['garantia_de_fábrica'].apply(bool_garantia_de_fabrica)\n",
    "\n",
    "def bool_revisoes_dentro_agenda(value):\n",
    "    if isinstance(value, str) and value == 'Todas as revisões feitas pela agenda do carro':\n",
    "        return True\n",
    "    return False\n",
    "\n",
    "df['revisoes_dentro_agenda'] = df['revisoes_dentro_agenda'].apply(bool_revisoes_dentro_agenda)\n",
    "\n",
    "df.info()\n",
    "primeira_linha = df.iloc[0]\n",
    "for coluna, valor in primeira_linha.iteritems():\n",
    "    print(f'Coluna: {coluna}, Valor: {valor}, Tipo: {type(valor)}')\n"
   ]
  },
  {
   "cell_type": "code",
   "execution_count": null,
   "id": "bcc09202",
   "metadata": {},
   "outputs": [],
   "source": [
    "for col in booleans:\n",
    "\n",
    "    coluna = df[col].value_counts(dropna=False)\n",
    "    ax = coluna.plot(kind=\"bar\")\n",
    "    plt.title('Value counts of '+col+' column')\n",
    "    plt.xlabel(col)\n",
    "    plt.xticks(rotation=0)\n",
    "    plt.ylabel('Count')\n",
    "    for i, v in enumerate(coluna):\n",
    "        ax.text(i, v, str(v), ha='center', va='bottom', fontsize=12)\n",
    "    plt.show()"
   ]
  },
  {
   "cell_type": "code",
   "execution_count": null,
   "id": "d0efad42",
   "metadata": {},
   "outputs": [],
   "source": [
    "del df['versao']\n",
    "del df['anunciante']\n",
    "del df['elegivel_revisao']\n",
    "del df['veiculo_alienado']\n",
    "\n",
    "preco_coluna = df['preco']\n",
    "del df['preco']\n",
    "df['preco'] = preco_coluna\n",
    "\n",
    "df"
   ]
  },
  {
   "cell_type": "code",
   "execution_count": null,
   "id": "abe9b793",
   "metadata": {
    "scrolled": true
   },
   "outputs": [],
   "source": [
    "plt.figure(figsize=(20,8))\n",
    "\n",
    "plt.subplot(1,2,1)\n",
    "plt.title('Car Price Distribution Plot')\n",
    "sns.distplot(df['preco'])\n",
    "plt.gca().get_xaxis().set_major_formatter(plt.FuncFormatter(lambda x, loc: \"{:,}\".format(int(x))))\n",
    "# plt.gca().get_yaxis().set_major_formatter(plt.FuncFormatter(lambda y, loc: \"{:,}\".format(int(y))))\n",
    "\n",
    "plt.subplot(1,2,2)\n",
    "plt.title('Car Price Spread')\n",
    "sns.boxplot(y=df['preco'])\n",
    "plt.gca().get_yaxis().set_major_formatter(plt.FuncFormatter(lambda y, loc: \"{:,}\".format(int(y))))\n",
    "\n",
    "\n",
    "plt.show()"
   ]
  },
  {
   "cell_type": "code",
   "execution_count": null,
   "id": "34b75059",
   "metadata": {},
   "outputs": [],
   "source": [
    "booleans = ['blindado','entrega_delivery','troca','dono_aceita_troca','veiculo_único_dono','revisoes_concessionaria','ipva_pago','veiculo_licenciado','garantia_de_fábrica','revisoes_dentro_agenda']\n",
    "numericas = ['num_fotos','ano_de_fabricacao','ano_modelo','hodometro','num_portas']\n",
    "strings = ['marca','modelo','cambio','tipo','cor','tipo_vendedor','cidade_vendedor','estado_vendedor','combustivel']"
   ]
  },
  {
   "cell_type": "code",
   "execution_count": null,
   "id": "c81f5dec",
   "metadata": {},
   "outputs": [],
   "source": [
    "def price_comp(a):\n",
    "    fig = plt.figure(figsize=(10,3))\n",
    "    s1=fig.add_subplot(1,2,1)\n",
    "    s2=fig.add_subplot(1,2,2)\n",
    "\n",
    "\n",
    "    count=df[a].value_counts()\n",
    "    count.plot(kind='bar',ax=s1)\n",
    "    s1.set_title(a+' Histogram')\n",
    "    s1.set_xlabel(a)\n",
    "\n",
    "\n",
    "    preco = pd.DataFrame(df.groupby([a])['preco'].mean().sort_values(ascending = False))\n",
    "    preco.plot(kind='bar',ax=s2)\n",
    "    plt.title(a+' vs Average Price')\n",
    "    plt.show()\n",
    "    \n",
    "for col in strings:\n",
    "    price_comp(col)"
   ]
  },
  {
   "cell_type": "code",
   "execution_count": null,
   "id": "2a361e56",
   "metadata": {},
   "outputs": [],
   "source": [
    "    \n",
    "for col in booleans:\n",
    "    price_comp(col)"
   ]
  },
  {
   "cell_type": "code",
   "execution_count": null,
   "id": "9d8147ad",
   "metadata": {},
   "outputs": [],
   "source": [
    "def scatter(x,fig):\n",
    "    plt.subplot(5,1,fig)\n",
    "    plt.scatter(df[x],df['preco'])\n",
    "    plt.title(x+' vs Preco')\n",
    "    plt.ylabel('Preco')\n",
    "    plt.xlabel(x)\n",
    "    plt.gca().yaxis.set_major_formatter(ticker.FuncFormatter(lambda x, _: '{:,.0f}'.format(x)))\n",
    "\n",
    "plt.figure(figsize=(10,20))\n",
    "\n",
    "for i, col in enumerate(numericas):\n",
    "    scatter(col,i+1)\n",
    "\n",
    "plt.subplots_adjust(hspace=0.5)\n"
   ]
  },
  {
   "cell_type": "code",
   "execution_count": null,
   "id": "42b4f149",
   "metadata": {},
   "outputs": [],
   "source": [
    "# Questões de negócio\n",
    "#Foi considerado como popular carros abaixo de 120.000 reais.\n",
    "carros_populares_abaixo_120000 = df[df['preco'] < 120000]\n",
    "\n",
    "\n",
    "quantidade_por_estado = carros_populares_abaixo_120000['estado_vendedor'].value_counts().reset_index()\n",
    "quantidade_por_estado.columns = ['estado_vendedor', 'quantidade']\n",
    "\n",
    "quantidade_por_estado = quantidade_por_estado.sort_values(by='quantidade', ascending=False)\n",
    "\n",
    "# Plotar o gráfico de barras com a quantidade de carros em cada estado\n",
    "plt.figure(figsize=(12, 6))\n",
    "plt.bar(quantidade_por_estado['estado_vendedor'], quantidade_por_estado['quantidade'])\n",
    "plt.xlabel('Estado')\n",
    "plt.ylabel('Quantidade de Carros')\n",
    "plt.title('Quantidade de Carros com Preço Abaixo de R$ 120.000 por Estado')\n",
    "plt.xticks(rotation=45)\n",
    "plt.tight_layout()\n",
    "plt.show()"
   ]
  },
  {
   "cell_type": "code",
   "execution_count": null,
   "id": "db4a076f",
   "metadata": {},
   "outputs": [],
   "source": [
    "# Filtrar o DataFrame para obter apenas as picapes com transmissão automática\n",
    "picapes_automaticas = df[(df['tipo'] == 'Picape') & (df['cambio'] == 'Automática')]\n",
    "\n",
    "# Agrupar por estado e calcular a média dos preços para cada estado\n",
    "media_preco_por_estado = picapes_automaticas.groupby('estado_vendedor')['preco'].mean().reset_index()\n",
    "\n",
    "# Ordenar os estados pela média dos preços em ordem decrescente\n",
    "media_preco_por_estado = media_preco_por_estado.sort_values(by='preco', ascending=True)\n",
    "\n",
    "# Plotar o gráfico de barras\n",
    "plt.figure(figsize=(12, 6))\n",
    "plt.bar(media_preco_por_estado['estado_vendedor'], media_preco_por_estado['preco'])\n",
    "plt.xlabel('Estado')\n",
    "plt.ylabel('Média do Preço')\n",
    "plt.title('Média do Preço das Picapes com Transmissão Automática por Estado')\n",
    "plt.xticks(rotation=45)\n",
    "plt.tight_layout()\n",
    "plt.show()"
   ]
  },
  {
   "cell_type": "code",
   "execution_count": null,
   "id": "e8b5e38b",
   "metadata": {},
   "outputs": [],
   "source": [
    "carros_garantia = df[df['garantia_de_fábrica'] == True]\n",
    "\n",
    "\n",
    "media_preco_por_estado = carros_garantia.groupby('estado_vendedor')['preco'].mean().reset_index()\n",
    "\n",
    "media_preco_por_estado = media_preco_por_estado.sort_values(by='preco', ascending=True)\n",
    "\n",
    "# Obter o melhor estado\n",
    "melhor_estado = media_preco_por_estado.iloc[0]['estado_vendedor']\n",
    "melhor_media_preco = media_preco_por_estado.iloc[0]['preco']\n",
    "\n",
    "\n",
    "plt.figure(figsize=(12, 6))\n",
    "plt.bar(media_preco_por_estado['estado_vendedor'], media_preco_por_estado['preco'])\n",
    "plt.xlabel('Estado')\n",
    "plt.ylabel('Média do Preço')\n",
    "plt.title('Média do Preço de Carros com Garantia de Fábrica por Estado')\n",
    "plt.xticks(rotation=45)\n",
    "plt.tight_layout()\n",
    "plt.show()\n",
    "\n",
    "# Exibir o melhor estado e a respectiva métrica de desempenho\n",
    "print(f'O melhor estado para se comprar carros com garantia de fábrica é {melhor_estado} com média de preço de R${melhor_media_preco:.2f}.')"
   ]
  },
  {
   "cell_type": "code",
   "execution_count": null,
   "id": "423d13a0",
   "metadata": {},
   "outputs": [],
   "source": [
    "carros_garantia = df[df['garantia_de_fábrica'] == True]\n",
    "\n",
    "# Calcular o IQR para a coluna 'preco'\n",
    "Q1 = carros_garantia['preco'].quantile(0.25)\n",
    "Q3 = carros_garantia['preco'].quantile(0.75)\n",
    "IQR = Q3 - Q1\n",
    "\n",
    "\n",
    "limite_inferior = Q1 - 1.5 * IQR\n",
    "limite_superior = Q3 + 1.5 * IQR\n",
    "\n",
    "# Remover os outliers com base no IQR\n",
    "carros_garantia_sem_outliers = carros_garantia[(carros_garantia['preco'] >= limite_inferior) & (carros_garantia['preco'] <= limite_superior)]\n",
    "\n",
    "\n",
    "media_preco_por_estado = carros_garantia_sem_outliers.groupby('estado_vendedor')['preco'].mean().reset_index()\n",
    "\n",
    "\n",
    "media_preco_por_estado = media_preco_por_estado.sort_values(by='preco', ascending=False)\n",
    "\n",
    "\n",
    "melhor_estado = media_preco_por_estado.iloc[0]['estado_vendedor']\n",
    "melhor_media_preco = media_preco_por_estado.iloc[0]['preco']\n",
    "\n",
    "plt.figure(figsize=(12, 6))\n",
    "plt.bar(media_preco_por_estado['estado_vendedor'], media_preco_por_estado['preco'])\n",
    "plt.xlabel('Estado')\n",
    "plt.ylabel('Média do Preço')\n",
    "plt.title('Média do Preço de Carros com Garantia de Fábrica por Estado')\n",
    "plt.xticks(rotation=45)\n",
    "plt.tight_layout()\n",
    "plt.show()\n",
    "\n",
    "\n",
    "\n",
    "print(f'O melhor estado para se comprar carros com garantia de fábrica é {melhor_estado} com média de preço de R${melhor_media_preco:.2f}.')"
   ]
  },
  {
   "cell_type": "code",
   "execution_count": null,
   "id": "5c1c9f6b",
   "metadata": {},
   "outputs": [],
   "source": [
    "\n",
    "carros_eletricos_hibridos = df[df['combustivel'].isin(['ELETRICO', 'HIBRIDO'])]\n",
    "\n",
    "\n",
    "quantidade_por_estado = carros_eletricos_hibridos['estado_vendedor'].value_counts().reset_index()\n",
    "quantidade_por_estado.columns = ['estado_vendedor', 'quantidade']\n",
    "\n",
    "\n",
    "quantidade_por_estado = quantidade_por_estado.sort_values(by='quantidade', ascending=False)\n",
    "\n",
    "\n",
    "plt.figure(figsize=(12, 6))\n",
    "plt.bar(quantidade_por_estado['estado_vendedor'], quantidade_por_estado['quantidade'])\n",
    "plt.xlabel('Estado')\n",
    "plt.ylabel('Quantidade de Carros Vendidos')\n",
    "plt.title('Estados que mais venderam Carros Elétricos e Híbridos')\n",
    "plt.xticks(rotation=45)\n",
    "plt.tight_layout()\n",
    "plt.show()\n",
    "\n"
   ]
  },
  {
   "cell_type": "code",
   "execution_count": null,
   "id": "60d61232",
   "metadata": {},
   "outputs": [],
   "source": [
    "carros_populares = df[df['preco'] < 120000]\n",
    "\n",
    "# Contar a quantidade de carros vendidos por marca\n",
    "quantidade_por_marca = carros_populares['marca'].value_counts().reset_index()\n",
    "quantidade_por_marca.columns = ['marca', 'quantidade']\n",
    "\n",
    "\n",
    "quantidade_por_marca = quantidade_por_marca.sort_values(by='quantidade', ascending=False)\n",
    "\n",
    "# Selecionar as 10 marcas mais vendidas\n",
    "top_10_marcas = quantidade_por_marca.head(10)\n",
    "\n",
    "\n",
    "plt.figure(figsize=(12, 6))\n",
    "plt.bar(top_10_marcas['marca'], top_10_marcas['quantidade'])\n",
    "plt.xlabel('Marca')\n",
    "plt.ylabel('Quantidade de Carros Vendidos')\n",
    "plt.title('Top 10 Marcas de Carros Populares Mais Vendidas')\n",
    "plt.xticks(rotation=45)\n",
    "plt.tight_layout()\n",
    "plt.show()\n"
   ]
  },
  {
   "cell_type": "code",
   "execution_count": null,
   "id": "af2e81ec",
   "metadata": {},
   "outputs": [],
   "source": [
    "\n",
    "# Filtrar o DataFrame para obter apenas carros de luxo (valor acima de 1 milhão)\n",
    "carros_de_luxo = df[df['preco'] > 1000000]\n",
    "\n",
    "# Contar a quantidade de carros de luxo vendidos por estado\n",
    "vendas_por_estado = carros_de_luxo['estado_vendedor'].value_counts().reset_index()\n",
    "vendas_por_estado.columns = ['estado_vendedor', 'quantidade']\n",
    "\n",
    "\n",
    "estado_mais_vendas = vendas_por_estado.iloc[0]['estado_vendedor']\n",
    "quantidade_vendas_estado_mais_vendas = vendas_por_estado.iloc[0]['quantidade']\n",
    "\n",
    "\n",
    "plt.figure(figsize=(12, 6))\n",
    "plt.bar(vendas_por_estado['estado_vendedor'], vendas_por_estado['quantidade'])\n",
    "plt.xlabel('Estado')\n",
    "plt.ylabel('Quantidade de Carros de Luxo Vendidos')\n",
    "plt.title('Estados com Mais Vendas de Carros de Luxo (Acima de 1 Milhão)')\n",
    "plt.xticks(rotation=45)\n",
    "plt.tight_layout()\n",
    "plt.show()"
   ]
  },
  {
   "cell_type": "code",
   "execution_count": null,
   "id": "accbdc6c",
   "metadata": {},
   "outputs": [],
   "source": [
    "#Preparand os dados para criar modelo de classificação\n",
    "booleans = ['blindado','garantia_de_fábrica']\n",
    "numericas = ['ano_de_fabricacao','hodometro','preco']\n",
    "strings = ['cambio','tipo','combustivel','modelo','marca']\n",
    "\n",
    "\n",
    "\n",
    "df_filtrado = df.filter(booleans + numericas + strings)\n",
    "for col in booleans:\n",
    "    df_filtrado[col] = df_filtrado[col].astype(int)\n",
    "\n",
    "new_df = pd.get_dummies(columns=strings,data=df_filtrado)\n",
    "new_df"
   ]
  },
  {
   "cell_type": "code",
   "execution_count": null,
   "id": "50434798",
   "metadata": {},
   "outputs": [],
   "source": [
    "x = new_df.drop(columns=[\"preco\"])\n",
    "y = new_df[\"preco\"]"
   ]
  },
  {
   "cell_type": "code",
   "execution_count": null,
   "id": "2feeb289",
   "metadata": {},
   "outputs": [],
   "source": [
    "x_train,x_test,y_train,y_test=train_test_split(x,y,test_size=0.2,random_state=42)"
   ]
  },
  {
   "cell_type": "code",
   "execution_count": null,
   "id": "70ce8c4d",
   "metadata": {},
   "outputs": [],
   "source": [
    "training_score = []\n",
    "testing_score = []"
   ]
  },
  {
   "cell_type": "code",
   "execution_count": null,
   "id": "2acc7ab0",
   "metadata": {},
   "outputs": [],
   "source": [
    "def model_prediction(model):\n",
    "    model.fit(x_train,y_train)\n",
    "    x_train_pred = model.predict(x_train)\n",
    "    x_test_pred = model.predict(x_test)\n",
    "    a = r2_score(y_train, x_train_pred) * 100\n",
    "    b = r2_score(y_test, x_test_pred) * 100\n",
    "\n",
    "    training_score.append(a)\n",
    "    testing_score.append(b)\n"
   ]
  },
  {
   "cell_type": "code",
   "execution_count": null,
   "id": "ba613023",
   "metadata": {},
   "outputs": [],
   "source": [
    "model_prediction(LinearRegression())"
   ]
  },
  {
   "cell_type": "code",
   "execution_count": null,
   "id": "46e8e4ed",
   "metadata": {},
   "outputs": [],
   "source": [
    "model_prediction(DecisionTreeRegressor())"
   ]
  },
  {
   "cell_type": "code",
   "execution_count": null,
   "id": "6b9dfb42",
   "metadata": {},
   "outputs": [],
   "source": [
    "model_prediction(RandomForestRegressor())"
   ]
  },
  {
   "cell_type": "code",
   "execution_count": null,
   "id": "ce073a4a",
   "metadata": {},
   "outputs": [],
   "source": [
    "model_prediction(AdaBoostRegressor())"
   ]
  },
  {
   "cell_type": "code",
   "execution_count": null,
   "id": "25c1bf46",
   "metadata": {},
   "outputs": [],
   "source": [
    "model_prediction(GradientBoostingRegressor())"
   ]
  },
  {
   "cell_type": "code",
   "execution_count": null,
   "id": "d0e4e209",
   "metadata": {},
   "outputs": [],
   "source": [
    "model_prediction(LGBMRegressor())"
   ]
  },
  {
   "cell_type": "code",
   "execution_count": null,
   "id": "d8b569d3",
   "metadata": {},
   "outputs": [],
   "source": [
    "model_prediction(XGBRegressor())"
   ]
  },
  {
   "cell_type": "code",
   "execution_count": null,
   "id": "def4d962",
   "metadata": {},
   "outputs": [],
   "source": [
    "model_prediction(CatBoostRegressor(verbose=False))"
   ]
  },
  {
   "cell_type": "code",
   "execution_count": null,
   "id": "ce769007",
   "metadata": {},
   "outputs": [],
   "source": [
    "models = [\"Linear Regression\",\"Decision Tree\",\"Random Forest\",\"Ada Boost\",\"Gradient Boost\",\"LGBM\",\"XGBoost\",\"CatBoost\"]\n",
    "training_score = list(map(int, training_score))\n",
    "testing_score = list(map(int, testing_score))\n",
    "df = pd.DataFrame({\"Algorithms\":models,\n",
    "                   \"Training Score\":training_score,\n",
    "                   \"Testing Score\":testing_score})\n",
    "df"
   ]
  },
  {
   "cell_type": "code",
   "execution_count": null,
   "id": "fdede9c8",
   "metadata": {},
   "outputs": [],
   "source": [
    "model = LGBMRegressor()\n",
    "\n",
    "# Treinamento do modelo escolhido usando todos os dados de treinamento\n",
    "model.fit(x, y)"
   ]
  },
  {
   "cell_type": "code",
   "execution_count": null,
   "id": "8604a8fb",
   "metadata": {},
   "outputs": [],
   "source": [
    "#carregando csv de teste para previsões e limpando os dados\n",
    "df_teste = pd.read_csv('cars_test.csv', sep='\\t', header=0, encoding=\"utf-16\")\n",
    "\n",
    "versao_teste = df_teste['versao']\n",
    "\n",
    "df_teste['combustivel'] = None\n",
    "\n",
    "for i,ver in enumerate(versao_teste):\n",
    "    if \"FLEX\" in ver:\n",
    "        df_teste.at[i, 'combustivel'] = 'FLEX'\n",
    "        continue\n",
    "    if \"GASOLINA\" in ver:\n",
    "        df_teste.at[i, 'combustivel'] = 'GASOLINA'\n",
    "        continue\n",
    "    if \"DIESEL\" in ver:\n",
    "        df_teste.at[i, 'combustivel'] = 'DIESEL'\n",
    "        continue\n",
    "    if \"HÍBRIDO\" in ver or \"HYBRID\" in ver:\n",
    "        df_teste.at[i, 'combustivel'] = 'HIBRIDO'\n",
    "        continue\n",
    "    if \"ELÉTRICO\" in ver:\n",
    "        df_teste.at[i, 'combustivel'] = 'ELETRICO'\n",
    "        continue\n",
    "    df_teste.at[i, 'combustivel'] = 'OUTROS'\n",
    "\n",
    "    \n",
    "df_teste_filtrado = df_teste.filter(booleans + numericas + strings)\n",
    "df_teste_filtrado['hodometro'] = df_teste_filtrado['hodometro'].apply(float_to_int)\n",
    "df_teste_filtrado['blindado'] = df_teste_filtrado['blindado'].apply(bool_blindado)\n",
    "df_teste_filtrado['garantia_de_fábrica'] = df_teste_filtrado['garantia_de_fábrica'].apply(bool_garantia_de_fabrica)\n",
    "for col in booleans:\n",
    "    df_teste_filtrado[col] = df_teste_filtrado[col].astype(int)\n",
    "new_df_teste = pd.get_dummies(columns=strings,data=df_teste_filtrado)\n",
    "new_df_teste"
   ]
  },
  {
   "cell_type": "code",
   "execution_count": null,
   "id": "5b731607",
   "metadata": {},
   "outputs": [],
   "source": [
    "colunas_a_adicionar = x.columns.difference(new_df_teste.columns)\n",
    "colunas_a_remover = new_df_teste.columns.difference(x.columns)\n",
    "\n",
    "for col in colunas_a_adicionar:\n",
    "    new_df_teste[col] = 0\n",
    "    \n",
    "for col in colunas_a_remover:\n",
    "    del new_df_teste[col]\n",
    "    \n",
    "pred = model.predict(new_df_teste)\n",
    "pred"
   ]
  },
  {
   "cell_type": "code",
   "execution_count": null,
   "id": "d6f03628",
   "metadata": {},
   "outputs": [],
   "source": [
    "df_final = pd.DataFrame({'id': df_teste['id'], 'preco': pred})\n",
    "\n",
    "# Salvar o novo DataFrame em um arquivo CSV com separador de tabulação\n",
    "df_final.to_csv('predicted.csv ', index=False, sep='\\t', encoding='utf-16')"
   ]
  },
  {
   "cell_type": "code",
   "execution_count": null,
   "id": "6a59e2c5",
   "metadata": {},
   "outputs": [],
   "source": []
  }
 ],
 "metadata": {
  "kernelspec": {
   "display_name": "Python 3 (ipykernel)",
   "language": "python",
   "name": "python3"
  },
  "language_info": {
   "codemirror_mode": {
    "name": "ipython",
    "version": 3
   },
   "file_extension": ".py",
   "mimetype": "text/x-python",
   "name": "python",
   "nbconvert_exporter": "python",
   "pygments_lexer": "ipython3",
   "version": "3.10.12"
  }
 },
 "nbformat": 4,
 "nbformat_minor": 5
}
